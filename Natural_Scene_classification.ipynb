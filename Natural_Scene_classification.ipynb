{
  "cells": [
    {
      "cell_type": "markdown",
      "metadata": {
        "id": "view-in-github",
        "colab_type": "text"
      },
      "source": [
        "<a href=\"https://colab.research.google.com/github/kavita1910/Natural-Scene-Classification-using-Tensorflow/blob/main/Natural_Scene_classification.ipynb\" target=\"_parent\"><img src=\"https://colab.research.google.com/assets/colab-badge.svg\" alt=\"Open In Colab\"/></a>"
      ]
    },
    {
      "cell_type": "markdown",
      "metadata": {
        "id": "8wRAY6ZeVKFu"
      },
      "source": [
        "# Natural Scene Classification\n",
        "Images are classified into 6 classes : \n",
        "- building\n",
        "- street\n",
        "- glacier\n",
        "- forest\n",
        "- mountain\n",
        "\n",
        "**Aim:** Build a model which can classify these Natural Scenes with the highest accuracy possible.\n",
        "\n",
        "**Steps:** \n",
        "- load the data\n",
        "- preparing data for modelling\n",
        "- creating a CNN model (starting with the baseline)\n",
        "- fitting the model (getting it to find patterns in the data)\n",
        "- evaluatig the model\n",
        "- improvising the model\n",
        "- Making predictions with the trained model\n",
        "\n",
        "**Experiments:** \n"
      ]
    },
    {
      "cell_type": "markdown",
      "metadata": {
        "id": "SI5ac6ntctXK"
      },
      "source": [
        "## Load the data\n",
        "- download the zip file from drive\n",
        "- create an unzip function to unzip the downloaded file"
      ]
    },
    {
      "cell_type": "code",
      "execution_count": 1,
      "metadata": {
        "colab": {
          "base_uri": "https://localhost:8080/"
        },
        "id": "xzYiVPT7U4Yw",
        "outputId": "028e5729-1307-4f81-c125-2b95276752d1"
      },
      "outputs": [
        {
          "output_type": "stream",
          "name": "stdout",
          "text": [
            "Downloading...\n",
            "From: https://drive.google.com/uc?id=1cb0-HdobqDGGxMiiqAdmbO2jjKNKm-z0\n",
            "To: /content/NaturalSceneClassification.zip\n",
            "100% 254M/254M [00:03<00:00, 81.4MB/s]\n"
          ]
        }
      ],
      "source": [
        "! gdown --id 1cb0-HdobqDGGxMiiqAdmbO2jjKNKm-z0"
      ]
    },
    {
      "cell_type": "code",
      "execution_count": 2,
      "metadata": {
        "id": "0IA6xvo4Ybyh"
      },
      "outputs": [],
      "source": [
        "# create a function to unzip the zipfile into current working directory\n",
        "import zipfile\n",
        "\n",
        "def unzip_data(filename):\n",
        "  \"\"\"\n",
        "  Unzip filename into current working directory.\n",
        "  Args:\n",
        "    filename (str): a filepath to target zip folder to be unzipped.\n",
        "  \"\"\"\n",
        "  zip_ref = zipfile.ZipFile(filename, 'r')\n",
        "  zip_ref.extractall()\n",
        "  zip_ref.close()"
      ]
    },
    {
      "cell_type": "code",
      "execution_count": 3,
      "metadata": {
        "id": "sAuvSIE2fzZ6"
      },
      "outputs": [],
      "source": [
        "unzip_data(\"/content/NaturalSceneClassification.zip\")"
      ]
    },
    {
      "cell_type": "markdown",
      "metadata": {
        "id": "Sd1wT7Iagua6"
      },
      "source": [
        "## Inspect the data\n",
        "scanning the folder & understanding the data you are working with \n",
        "- A **train** directory which contains all of the images in the training dataset with subdirectories each named after a certain class containing images of that class.\n",
        "- A **test** directory with the same structure as the train directory."
      ]
    },
    {
      "cell_type": "code",
      "execution_count": 4,
      "metadata": {
        "id": "di8UuOqveumB"
      },
      "outputs": [],
      "source": [
        "# Walk through an image classification directory and find out how many files (images) are in each subdirectory\n",
        "import os\n",
        "\n",
        "def walk_through_dir(dir_path):\n",
        "  \"\"\"\n",
        "  Walk through dir_path returning its contents.\n",
        "  Args:\n",
        "    dir_path (str): target directory\n",
        "\n",
        "  Returns:\n",
        "    A print out of :\n",
        "      number of subdirectories in dir_path\n",
        "      number of images(files) in each subdirectory\n",
        "  \"\"\"\n",
        "  for dirpath, dirnames, filenames in os.walk(dir_path):\n",
        "    print(f\"They are {len(dirnames)} directories and {len(filenames)} images in '{dirpath}'.\")"
      ]
    },
    {
      "cell_type": "code",
      "execution_count": 5,
      "metadata": {
        "colab": {
          "base_uri": "https://localhost:8080/"
        },
        "id": "Z8KZD1R3gSMI",
        "outputId": "4c6b1538-c63d-4c20-a63a-5b30d0e45edd"
      },
      "outputs": [
        {
          "output_type": "stream",
          "name": "stdout",
          "text": [
            "They are 2 directories and 0 images in 'NaturalSceneClassification'.\n",
            "They are 6 directories and 0 images in 'NaturalSceneClassification/seg_test'.\n",
            "They are 0 directories and 553 images in 'NaturalSceneClassification/seg_test/glacier'.\n",
            "They are 0 directories and 474 images in 'NaturalSceneClassification/seg_test/forest'.\n",
            "They are 0 directories and 510 images in 'NaturalSceneClassification/seg_test/sea'.\n",
            "They are 0 directories and 501 images in 'NaturalSceneClassification/seg_test/street'.\n",
            "They are 0 directories and 525 images in 'NaturalSceneClassification/seg_test/mountain'.\n",
            "They are 0 directories and 437 images in 'NaturalSceneClassification/seg_test/buildings'.\n",
            "They are 6 directories and 0 images in 'NaturalSceneClassification/seg_train'.\n",
            "They are 0 directories and 2404 images in 'NaturalSceneClassification/seg_train/glacier'.\n",
            "They are 0 directories and 2271 images in 'NaturalSceneClassification/seg_train/forest'.\n",
            "They are 0 directories and 2274 images in 'NaturalSceneClassification/seg_train/sea'.\n",
            "They are 0 directories and 2382 images in 'NaturalSceneClassification/seg_train/street'.\n",
            "They are 0 directories and 2512 images in 'NaturalSceneClassification/seg_train/mountain'.\n",
            "They are 0 directories and 2191 images in 'NaturalSceneClassification/seg_train/buildings'.\n"
          ]
        }
      ],
      "source": [
        "walk_through_dir(\"NaturalSceneClassification\")"
      ]
    },
    {
      "cell_type": "code",
      "execution_count": 6,
      "metadata": {
        "colab": {
          "base_uri": "https://localhost:8080/"
        },
        "id": "EZrg12RGgYgj",
        "outputId": "9f2beef2-0a41-4387-9028-3519b2599ea5"
      },
      "outputs": [
        {
          "output_type": "stream",
          "name": "stdout",
          "text": [
            "['buildings' 'forest' 'glacier' 'mountain' 'sea' 'street']\n"
          ]
        }
      ],
      "source": [
        "# Get the class names\n",
        "import pathlib\n",
        "import numpy as np\n",
        "\n",
        "data_dir = pathlib.Path(\"/content/NaturalSceneClassification/seg_train\")  \n",
        "\n",
        "class_names = np.array(sorted([item.name for item in data_dir.glob(\"*\")]))  # Create a list of class names from the subdirectories names \n",
        "print(class_names)"
      ]
    },
    {
      "cell_type": "markdown",
      "metadata": {
        "id": "8NXE7MSdh7sz"
      },
      "source": [
        "## Visualize random images from the dataset\n",
        "create a function that loads up a random image from the dataset of a specified class"
      ]
    },
    {
      "cell_type": "code",
      "execution_count": 7,
      "metadata": {
        "id": "rPkEHIlCiPZv"
      },
      "outputs": [],
      "source": [
        "# View an image\n",
        "import os\n",
        "import matplotlib.pyplot as plt\n",
        "import matplotlib.image as mpimg\n",
        "import random\n",
        "\n",
        "def view_random_image(target_dir, target_class):\n",
        "  # Setup target directory from which we will view our image\n",
        "  target_folder = target_dir + target_class\n",
        "\n",
        "  # Get random image path \n",
        "  random_image = random.sample(os.listdir(target_folder), 1)\n",
        "\n",
        "  # Read in the image and plot it using matplotlib\n",
        "  img = mpimg.imread(target_folder + \"/\" + random_image[0])\n",
        "  plt.imshow(img)\n",
        "  plt.title(target_class)\n",
        "  plt.axis(\"off\");\n",
        "\n",
        "  print(f\"Image shape: {img.shape}\")  # show the shape of the image\n",
        "\n",
        "  return img"
      ]
    },
    {
      "cell_type": "code",
      "execution_count": 8,
      "metadata": {
        "colab": {
          "base_uri": "https://localhost:8080/",
          "height": 282
        },
        "id": "HAE65CO0ltTh",
        "outputId": "2cf7f838-b0e6-44e0-d3e3-99b6a10a262c"
      },
      "outputs": [
        {
          "output_type": "stream",
          "name": "stdout",
          "text": [
            "Image shape: (150, 150, 3)\n"
          ]
        },
        {
          "output_type": "display_data",
          "data": {
            "image/png": "[encoded data removed]",
            "text/plain": [
              "<Figure size 432x288 with 1 Axes>"
            ]
          },
          "metadata": {
            "needs_background": "light"
          }
        }
      ],
      "source": [
        "# View a random image from a training dataset\n",
        "img = view_random_image(target_dir=\"/content/NaturalSceneClassification/seg_train/\",\n",
        "                        target_class=\"glacier\")"
      ]
    },
    {
      "cell_type": "code",
      "execution_count": 9,
      "metadata": {
        "colab": {
          "base_uri": "https://localhost:8080/"
        },
        "id": "rggjcTR_mDRo",
        "outputId": "092667fa-fc73-4d12-b54c-02bd0a303d27"
      },
      "outputs": [
        {
          "output_type": "execute_result",
          "data": {
            "text/plain": [
              "array([[[ 70, 110, 162],\n",
              "        [ 70, 110, 162],\n",
              "        [ 70, 110, 162],\n",
              "        ...,\n",
              "        [ 75, 115, 164],\n",
              "        [ 75, 115, 164],\n",
              "        [ 75, 115, 164]],\n",
              "\n",
              "       [[ 71, 111, 162],\n",
              "        [ 71, 111, 162],\n",
              "        [ 71, 111, 162],\n",
              "        ...,\n",
              "        [ 75, 115, 164],\n",
              "        [ 76, 116, 165],\n",
              "        [ 75, 115, 164]],\n",
              "\n",
              "       [[ 71, 111, 162],\n",
              "        [ 71, 111, 162],\n",
              "        [ 71, 111, 162],\n",
              "        ...,\n",
              "        [ 76, 116, 165],\n",
              "        [ 76, 116, 165],\n",
              "        [ 76, 116, 165]],\n",
              "\n",
              "       ...,\n",
              "\n",
              "       [[ 66,  94, 118],\n",
              "        [ 89, 113, 139],\n",
              "        [ 57,  77, 104],\n",
              "        ...,\n",
              "        [ 49,  83, 118],\n",
              "        [ 52,  88, 122],\n",
              "        [ 56,  92, 128]],\n",
              "\n",
              "       [[ 78, 106, 130],\n",
              "        [ 63,  87, 113],\n",
              "        [ 71,  91, 118],\n",
              "        ...,\n",
              "        [ 46,  81, 113],\n",
              "        [ 34,  70, 104],\n",
              "        [ 24,  60,  96]],\n",
              "\n",
              "       [[ 20,  48,  72],\n",
              "        [ 45,  69,  95],\n",
              "        [ 55,  75, 102],\n",
              "        ...,\n",
              "        [ 41,  76, 108],\n",
              "        [ 51,  85, 120],\n",
              "        [ 56,  92, 126]]], dtype=uint8)"
            ]
          },
          "metadata": {},
          "execution_count": 9
        }
      ],
      "source": [
        "# View the img in the array/tensor form\n",
        "img"
      ]
    },
    {
      "cell_type": "code",
      "execution_count": 10,
      "metadata": {
        "colab": {
          "base_uri": "https://localhost:8080/"
        },
        "id": "a2sD-YvomuxK",
        "outputId": "0a864577-95c5-470f-9276-47ad14ecfb55"
      },
      "outputs": [
        {
          "output_type": "execute_result",
          "data": {
            "text/plain": [
              "(150, 150, 3)"
            ]
          },
          "metadata": {},
          "execution_count": 10
        }
      ],
      "source": [
        "# View the image shape\n",
        "img.shape # return (height, width, color channels)"
      ]
    },
    {
      "cell_type": "markdown",
      "metadata": {
        "id": "7tq1fvZgnbwm"
      },
      "source": [
        "Notice that all the 'img' values are between 0 and 255. This is because that's the possible range for blue, green and red values.\n",
        "\n",
        "So when building a model it diffrentiates between our different classes it will be finding patterns in these different pixel values which determine what each class looks like.\n",
        "\n",
        "## Preprocess the data (prepare it for the model)\n",
        "\n",
        "Many ML models including neural network prefer the values to be between 0 and 1. This is the most common preprocessing step for working with images i.e. to **scale** images also referred to as **normalization**. This is done by dividing each pixel value in the image array by 255. "
      ]
    },
    {
      "cell_type": "code",
      "execution_count": null,
      "metadata": {
        "colab": {
          "base_uri": "https://localhost:8080/"
        },
        "id": "U_g-MuHBm6O3",
        "outputId": "37176782-0279-4a24-8f56-0897ef8664f8"
      },
      "outputs": [
        {
          "output_type": "execute_result",
          "data": {
            "text/plain": [
              "array([[[0.8       , 0.83529412, 0.87058824],\n",
              "        [0.81176471, 0.85098039, 0.88627451],\n",
              "        [0.81568627, 0.85490196, 0.89019608],\n",
              "        ...,\n",
              "        [0.91372549, 0.94117647, 0.96470588],\n",
              "        [0.89803922, 0.93333333, 0.96078431],\n",
              "        [0.88627451, 0.92941176, 0.95294118]],\n",
              "\n",
              "       [[0.82352941, 0.8627451 , 0.90196078],\n",
              "        [0.83529412, 0.8745098 , 0.91372549],\n",
              "        [0.83921569, 0.87843137, 0.91764706],\n",
              "        ...,\n",
              "        [0.84705882, 0.87843137, 0.92156863],\n",
              "        [0.83529412, 0.86666667, 0.90980392],\n",
              "        [0.82745098, 0.86666667, 0.91372549]],\n",
              "\n",
              "       [[0.82352941, 0.8627451 , 0.90196078],\n",
              "        [0.83137255, 0.87058824, 0.90980392],\n",
              "        [0.83137255, 0.87058824, 0.90980392],\n",
              "        ...,\n",
              "        [0.80784314, 0.83529412, 0.89803922],\n",
              "        [0.79607843, 0.82352941, 0.88627451],\n",
              "        [0.78823529, 0.82352941, 0.89019608]],\n",
              "\n",
              "       ...,\n",
              "\n",
              "       [[0.16862745, 0.17647059, 0.17254902],\n",
              "        [0.23921569, 0.24705882, 0.24313725],\n",
              "        [0.11764706, 0.1254902 , 0.12156863],\n",
              "        ...,\n",
              "        [0.30980392, 0.3254902 , 0.36078431],\n",
              "        [0.33333333, 0.34901961, 0.38431373],\n",
              "        [0.10980392, 0.12156863, 0.14901961]],\n",
              "\n",
              "       [[0.03529412, 0.04313725, 0.03921569],\n",
              "        [0.22745098, 0.23529412, 0.23137255],\n",
              "        [0.16470588, 0.17254902, 0.16862745],\n",
              "        ...,\n",
              "        [0.32156863, 0.3372549 , 0.37254902],\n",
              "        [0.45490196, 0.47058824, 0.50588235],\n",
              "        [0.04313725, 0.05490196, 0.08235294]],\n",
              "\n",
              "       [[0.12941176, 0.1372549 , 0.13333333],\n",
              "        [0.21176471, 0.21568627, 0.22352941],\n",
              "        [0.22352941, 0.22745098, 0.23529412],\n",
              "        ...,\n",
              "        [0.50980392, 0.5254902 , 0.56078431],\n",
              "        [0.51372549, 0.5254902 , 0.56078431],\n",
              "        [0.00392157, 0.01568627, 0.04313725]]])"
            ]
          },
          "metadata": {},
          "execution_count": 11
        }
      ],
      "source": [
        "# Get all the pixel values between 0-1\n",
        "img/255."
      ]
    },
    {
      "cell_type": "markdown",
      "metadata": {
        "id": "FooFEncfOu4C"
      },
      "source": [
        "A **batch** is a small subset of the dataset a model looks at during training. For e.g.: rather than looking at 10,000 images at one time and trying to figure out the patterns a model might only look at 32 images at a time.\n",
        "\n",
        "It does this for a couple of reasons:    \n",
        "- 10,000 images (or more) might not fit into the memory of your processor(GPU).\n",
        "- Trying to learn patterns in 10,000 images in one hit could result in the model not being able to learn very well.\n",
        "\n",
        "To turn data into batches first create an instance of `ImageDataGenerator` for each of the datasets.\n",
        "\n",
        "The `ImageDataGenerator` class helps prepare the images into batches as well as perform transformations on them as they get loaded into the model."
      ]
    },
    {
      "cell_type": "code",
      "execution_count": 11,
      "metadata": {
        "colab": {
          "base_uri": "https://localhost:8080/"
        },
        "id": "si3O4nqBMFg7",
        "outputId": "fd89400a-6679-4ff9-a1a3-3967aaf03db3"
      },
      "outputs": [
        {
          "output_type": "stream",
          "name": "stdout",
          "text": [
            "Found 14034 images belonging to 6 classes.\n",
            "Found 3000 images belonging to 6 classes.\n"
          ]
        }
      ],
      "source": [
        "import tensorflow as tf\n",
        "from tensorflow.keras.preprocessing.image import ImageDataGenerator\n",
        "\n",
        "# Set seed\n",
        "tf.random.set_seed(42)\n",
        "\n",
        "# Pre-process the data (get all of the pixel values between 0 and 1 also called scaling and normalization)\n",
        "train_datagen = ImageDataGenerator(rescale=1./255)\n",
        "test_datagen = ImageDataGenerator(rescale=1./255)\n",
        "\n",
        "# Setup train and test directories\n",
        "train_dir = \"/content/NaturalSceneClassification/seg_train\"\n",
        "test_dir = \"/content/NaturalSceneClassification/seg_test\"\n",
        "\n",
        "# Import data from directories and turn it into batches\n",
        "train_data = train_datagen.flow_from_directory(train_dir,\n",
        "                                               batch_size=32, # number of images to process at a time\n",
        "                                               target_size=(150,150),  # convert all images to 150x150\n",
        "                                               class_mode='categorical')\n",
        "\n",
        "test_data =test_datagen.flow_from_directory(test_dir,\n",
        "                                            batch_size=32,\n",
        "                                            target_size=(150,150),\n",
        "                                            class_mode='categorical')"
      ]
    },
    {
      "cell_type": "markdown",
      "metadata": {
        "id": "nJTvhgbEUHVR"
      },
      "source": [
        "Training data has 14034 images of 6 classes and test data has 3000 also belonging to 6 classes.\n",
        "\n",
        "Take a look at the batched images and labels by inspecting the `train_data` object."
      ]
    },
    {
      "cell_type": "code",
      "execution_count": 12,
      "metadata": {
        "colab": {
          "base_uri": "https://localhost:8080/"
        },
        "id": "wBB5bwljNuBs",
        "outputId": "df9cf13d-dda3-456b-f14f-a55530cbe5df"
      },
      "outputs": [
        {
          "output_type": "execute_result",
          "data": {
            "text/plain": [
              "(32, 32)"
            ]
          },
          "metadata": {},
          "execution_count": 12
        }
      ],
      "source": [
        "images, labels = train_data.next()  # gets the next batch of images/labels\n",
        "len(images), len(labels)"
      ]
    },
    {
      "cell_type": "code",
      "execution_count": 13,
      "metadata": {
        "colab": {
          "base_uri": "https://localhost:8080/"
        },
        "id": "h07JLEhSV8eJ",
        "outputId": "81dfa25b-c6d1-4dba-edfc-b88e0fddffcc"
      },
      "outputs": [
        {
          "output_type": "execute_result",
          "data": {
            "text/plain": [
              "(array([[[[0.7568628 , 0.80392164, 0.86666673],\n",
              "          [0.7568628 , 0.80392164, 0.86666673],\n",
              "          [0.7568628 , 0.80392164, 0.86666673],\n",
              "          ...,\n",
              "          [0.7803922 , 0.82745105, 0.8745099 ],\n",
              "          [0.80392164, 0.85098046, 0.8980393 ],\n",
              "          [0.77647066, 0.8235295 , 0.8705883 ]],\n",
              " \n",
              "         [[0.75294125, 0.8000001 , 0.86274517],\n",
              "          [0.75294125, 0.8000001 , 0.86274517],\n",
              "          [0.7568628 , 0.80392164, 0.86666673],\n",
              "          ...,\n",
              "          [0.8000001 , 0.83921576, 0.8862746 ],\n",
              "          [0.80392164, 0.8431373 , 0.89019614],\n",
              "          [0.79215693, 0.8313726 , 0.87843144]],\n",
              " \n",
              "         [[0.7490196 , 0.7960785 , 0.8588236 ],\n",
              "          [0.7490196 , 0.7960785 , 0.8588236 ],\n",
              "          [0.75294125, 0.8000001 , 0.86274517],\n",
              "          ...,\n",
              "          [0.8000001 , 0.8313726 , 0.8745099 ],\n",
              "          [0.78823537, 0.8196079 , 0.86274517],\n",
              "          [0.7960785 , 0.82745105, 0.8705883 ]],\n",
              " \n",
              "         ...,\n",
              " \n",
              "         [[0.54901963, 0.61960787, 0.6745098 ],\n",
              "          [0.65882355, 0.72156864, 0.7803922 ],\n",
              "          [0.5921569 , 0.654902  , 0.7137255 ],\n",
              "          ...,\n",
              "          [0.64705884, 0.7137255 , 0.77647066],\n",
              "          [0.6313726 , 0.69803923, 0.7607844 ],\n",
              "          [0.6117647 , 0.6784314 , 0.7411765 ]],\n",
              " \n",
              "         [[0.5254902 , 0.59607846, 0.6509804 ],\n",
              "          [0.5764706 , 0.64705884, 0.7019608 ],\n",
              "          [0.5372549 , 0.60784316, 0.6627451 ],\n",
              "          ...,\n",
              "          [0.6313726 , 0.69803923, 0.7607844 ],\n",
              "          [0.6431373 , 0.70980394, 0.7725491 ],\n",
              "          [0.6392157 , 0.7058824 , 0.7686275 ]],\n",
              " \n",
              "         [[0.68235296, 0.75294125, 0.8078432 ],\n",
              "          [0.62352943, 0.69411767, 0.7490196 ],\n",
              "          [0.63529414, 0.7058824 , 0.7607844 ],\n",
              "          ...,\n",
              "          [0.6117647 , 0.6784314 , 0.7411765 ],\n",
              "          [0.6392157 , 0.7058824 , 0.7686275 ],\n",
              "          [0.64705884, 0.7137255 , 0.77647066]]],\n",
              " \n",
              " \n",
              "        [[[0.8352942 , 0.8352942 , 0.8352942 ],\n",
              "          [0.8470589 , 0.8470589 , 0.8470589 ],\n",
              "          [0.8431373 , 0.8431373 , 0.8431373 ],\n",
              "          ...,\n",
              "          [0.29411766, 0.29411766, 0.29411766],\n",
              "          [0.28235295, 0.28235295, 0.28235295],\n",
              "          [0.2784314 , 0.2784314 , 0.2784314 ]],\n",
              " \n",
              "         [[0.854902  , 0.854902  , 0.854902  ],\n",
              "          [0.86274517, 0.86274517, 0.86274517],\n",
              "          [0.8588236 , 0.8588236 , 0.8588236 ],\n",
              "          ...,\n",
              "          [0.30588236, 0.30588236, 0.30588236],\n",
              "          [0.29803923, 0.29803923, 0.29803923],\n",
              "          [0.2901961 , 0.2901961 , 0.2901961 ]],\n",
              " \n",
              "         [[0.85098046, 0.85098046, 0.85098046],\n",
              "          [0.854902  , 0.854902  , 0.854902  ],\n",
              "          [0.854902  , 0.854902  , 0.854902  ],\n",
              "          ...,\n",
              "          [0.31764707, 0.31764707, 0.31764707],\n",
              "          [0.30980393, 0.30980393, 0.30980393],\n",
              "          [0.30588236, 0.30588236, 0.30588236]],\n",
              " \n",
              "         ...,\n",
              " \n",
              "         [[0.5882353 , 0.5882353 , 0.5882353 ],\n",
              "          [0.52156866, 0.52156866, 0.52156866],\n",
              "          [0.5764706 , 0.5764706 , 0.5764706 ],\n",
              "          ...,\n",
              "          [0.56078434, 0.56078434, 0.56078434],\n",
              "          [0.5176471 , 0.5176471 , 0.5176471 ],\n",
              "          [0.58431375, 0.58431375, 0.58431375]],\n",
              " \n",
              "         [[0.5137255 , 0.5137255 , 0.5137255 ],\n",
              "          [0.5176471 , 0.5176471 , 0.5176471 ],\n",
              "          [0.5294118 , 0.5294118 , 0.5294118 ],\n",
              "          ...,\n",
              "          [0.53333336, 0.53333336, 0.53333336],\n",
              "          [0.5176471 , 0.5176471 , 0.5176471 ],\n",
              "          [0.5254902 , 0.5254902 , 0.5254902 ]],\n",
              " \n",
              "         [[0.5137255 , 0.5137255 , 0.5137255 ],\n",
              "          [0.5764706 , 0.5764706 , 0.5764706 ],\n",
              "          [0.53333336, 0.53333336, 0.53333336],\n",
              "          ...,\n",
              "          [0.5058824 , 0.5058824 , 0.5058824 ],\n",
              "          [0.5803922 , 0.5803922 , 0.5803922 ],\n",
              "          [0.47058827, 0.47058827, 0.47058827]]]], dtype=float32),\n",
              " (150, 150, 3))"
            ]
          },
          "metadata": {},
          "execution_count": 13
        }
      ],
      "source": [
        "# Get the 1st two images\n",
        "images[:2], images[0].shape"
      ]
    },
    {
      "cell_type": "code",
      "execution_count": 14,
      "metadata": {
        "colab": {
          "base_uri": "https://localhost:8080/"
        },
        "id": "65Uey8hJYq7S",
        "outputId": "acdd03e0-e83e-49c5-d58d-18e5a369abb7"
      },
      "outputs": [
        {
          "output_type": "execute_result",
          "data": {
            "text/plain": [
              "array([[0., 0., 1., 0., 0., 0.],\n",
              "       [0., 0., 0., 0., 0., 1.],\n",
              "       [0., 0., 0., 0., 1., 0.],\n",
              "       [0., 0., 0., 1., 0., 0.],\n",
              "       [0., 0., 0., 1., 0., 0.],\n",
              "       [0., 0., 0., 1., 0., 0.],\n",
              "       [0., 0., 0., 0., 0., 1.],\n",
              "       [0., 1., 0., 0., 0., 0.],\n",
              "       [0., 0., 0., 0., 0., 1.],\n",
              "       [0., 1., 0., 0., 0., 0.],\n",
              "       [0., 0., 1., 0., 0., 0.],\n",
              "       [0., 1., 0., 0., 0., 0.],\n",
              "       [0., 0., 0., 0., 1., 0.],\n",
              "       [0., 0., 1., 0., 0., 0.],\n",
              "       [0., 1., 0., 0., 0., 0.],\n",
              "       [0., 0., 0., 0., 1., 0.],\n",
              "       [1., 0., 0., 0., 0., 0.],\n",
              "       [0., 1., 0., 0., 0., 0.],\n",
              "       [0., 0., 0., 0., 0., 1.],\n",
              "       [0., 0., 1., 0., 0., 0.],\n",
              "       [0., 0., 0., 0., 0., 1.],\n",
              "       [0., 0., 0., 1., 0., 0.],\n",
              "       [0., 1., 0., 0., 0., 0.],\n",
              "       [0., 0., 1., 0., 0., 0.],\n",
              "       [1., 0., 0., 0., 0., 0.],\n",
              "       [0., 0., 0., 0., 0., 1.],\n",
              "       [0., 0., 0., 1., 0., 0.],\n",
              "       [0., 0., 1., 0., 0., 0.],\n",
              "       [0., 0., 1., 0., 0., 0.],\n",
              "       [0., 1., 0., 0., 0., 0.],\n",
              "       [1., 0., 0., 0., 0., 0.],\n",
              "       [0., 0., 0., 0., 0., 1.]], dtype=float32)"
            ]
          },
          "metadata": {},
          "execution_count": 14
        }
      ],
      "source": [
        "# View the first batch of labels\n",
        "labels"
      ]
    },
    {
      "cell_type": "code",
      "source": [
        "images = tf.image.resize(images, [224,224])"
      ],
      "metadata": {
        "id": "cJRuv7IZHobJ"
      },
      "execution_count": 15,
      "outputs": []
    },
    {
      "cell_type": "code",
      "source": [
        "images.shape"
      ],
      "metadata": {
        "colab": {
          "base_uri": "https://localhost:8080/"
        },
        "id": "VEYHaMHGISZy",
        "outputId": "70b86d39-6cce-44ed-e8c7-9ab8eadf58af"
      },
      "execution_count": 16,
      "outputs": [
        {
          "output_type": "execute_result",
          "data": {
            "text/plain": [
              "TensorShape([32, 224, 224, 3])"
            ]
          },
          "metadata": {},
          "execution_count": 16
        }
      ]
    },
    {
      "cell_type": "markdown",
      "metadata": {
        "id": "7XBJAzS8iWGQ"
      },
      "source": [
        "## Create modelling callbacks\n",
        "Since training on a large amount of data and training could take a long time, it's a good idea to set up some modelling callbacks to be sure of things like model's training logs being tracked and model being checkpointed (saved) after various training milestones.\n",
        "\n",
        "To do each of these use the following callbacks:\n",
        "\n",
        "`tf.keras.callbacks.TensorBoard()` - allows us to keep track of our model's training history so we can inspect it later"
      ]
    },
    {
      "cell_type": "code",
      "execution_count": 17,
      "metadata": {
        "id": "IW70D0cPiWYH"
      },
      "outputs": [],
      "source": [
        "import datetime\n",
        "\n",
        "def create_tensorboard_callback(dir_name, experiment_name):\n",
        "  \"\"\"\n",
        "  Creates a TensorBoard callback instand to store log files.\n",
        "  Stores log files with the filepath:\n",
        "    \"dir_name/experiment_name/current_datetime/\"\n",
        "  Args:\n",
        "    dir_name: target directory to store TensorBoard log files\n",
        "    experiment_name: name of experiment directory (e.g. efficientnet_model_1)\n",
        "  \"\"\"\n",
        "  log_dir = dir_name + \"/\" + experiment_name + \"/\" + datetime.datetime.now().strftime(\"%Y%m%d-%H%M%S\")\n",
        "  tensorboard_callback = tf.keras.callbacks.TensorBoard(\n",
        "      log_dir=log_dir\n",
        "  )\n",
        "  print(f\"Saving TensorBoard log files to: {log_dir}\")\n",
        "  return tensorboard_callback"
      ]
    },
    {
      "cell_type": "code",
      "execution_count": 18,
      "metadata": {
        "id": "rKsQCD-_jUVz"
      },
      "outputs": [],
      "source": [
        "# Create ModelCheckpoint callback to save model's progress\n",
        "checkpoint_path = \"model_checkpoints/cp.ckpt\" # saving weights requires \".ckpt\" extension\n",
        "model_checkpoint = tf.keras.callbacks.ModelCheckpoint(checkpoint_path,\n",
        "                                                      montior=\"val_accuracy\", # save the model weights with best validation accuracy\n",
        "                                                      save_best_only=True, # only save the best weights\n",
        "                                                      save_weights_only=True, # only save model weights (not whole model)\n",
        "                                                      verbose=1) # don't print out whether or not model is being saved "
      ]
    },
    {
      "cell_type": "markdown",
      "metadata": {
        "id": "K_t8qpMargXH"
      },
      "source": [
        "## Create a model (start with a baseline)\n",
        "\n",
        "Components of a convolutional neural network:\n",
        "\n",
        "| Syntax            | Description | Test Text     |\n",
        "| :---              |    :----:   |          ---: |\n",
        "| Input image(s)      | Target images you'd like to discover pattern in | Whatever you can take photo or video of   |\n",
        "| Input layer       | Takes in target images and pre-process them for further layers | input_shape = [batch_size, image_height, image_width, color_channels] |\n",
        "| Convolution layer | Extract/learns the most important features from target images | Multiple, can create with `tf.keras.layers.ConvXD` (X can be multiple values) |\n",
        "| Hidden activation layer | Adds non-linearity to learned features (non-straight lines) | Usually ReLU (`tf.keras.activations.relu`) |\n",
        "| Pooling layer | Reduces the dimentionality of learned image features | Average (`tf.keras.layers.AvgPool2D`) or Max (`tf.keras.layers.MaxPool2D`) |\n",
        "| Fully conntected layer | Further refines learned features from convolution layers | `tf.keras.layers.Dense` |\n",
        "| Output layer | Takes learned features and outputs them in shape of target labels | `output_shape = [number_of_classes]` |\n",
        "| Output activation | Adds non-linearity to output layer | `tf.keras.activations.sigmoid` for binary classifications & `tf.keras.activations.softmax` for multi-class. |"
      ]
    },
    {
      "cell_type": "code",
      "execution_count": 27,
      "metadata": {
        "id": "Uzl_mfHopXqZ"
      },
      "outputs": [],
      "source": [
        "import tensorflow as tf\n",
        "from tensorflow.keras.models import Sequential\n",
        "from tensorflow.keras.layers import Conv2D, MaxPool2D, Flatten, Dense\n",
        "\n",
        "model_1 = Sequential([\n",
        "                      Conv2D(6, 3, activation=\"relu\", input_shape=(150, 150, 3)),\n",
        "                      Conv2D(6, 3, activation=\"relu\"),\n",
        "                      MaxPool2D(),\n",
        "                      Conv2D(6, 3, activation=\"relu\"),\n",
        "                      Conv2D(6, 3, activation=\"relu\"),\n",
        "                      MaxPool2D(),\n",
        "                      Flatten(),\n",
        "                      Dense(6, activation=\"softmax\")\n",
        "])\n",
        "\n",
        "# Compile the model\n",
        "model_1.compile(loss=\"categorical_crossentropy\",\n",
        "                optimizer=tf.keras.optimizers.Adam(),\n",
        "                metrics=[\"accuracy\"])"
      ]
    },
    {
      "cell_type": "code",
      "execution_count": 28,
      "metadata": {
        "colab": {
          "base_uri": "https://localhost:8080/"
        },
        "id": "pL2qMAggAeEK",
        "outputId": "02f02bb4-fd31-494a-89fb-9ec4f457c138"
      },
      "outputs": [
        {
          "output_type": "execute_result",
          "data": {
            "text/plain": [
              "<bound method Model.summary of <keras.engine.sequential.Sequential object at 0x7fa16267b8d0>>"
            ]
          },
          "metadata": {},
          "execution_count": 28
        }
      ],
      "source": [
        "model_1.summary"
      ]
    },
    {
      "cell_type": "markdown",
      "metadata": {
        "id": "AMIMa7AVOmX1"
      },
      "source": [
        "## Fit a model"
      ]
    },
    {
      "cell_type": "code",
      "execution_count": 29,
      "metadata": {
        "colab": {
          "base_uri": "https://localhost:8080/"
        },
        "id": "AmWVzeGTfdJE",
        "outputId": "1774c472-87a1-4e79-c567-09c8878ba575"
      },
      "outputs": [
        {
          "output_type": "stream",
          "name": "stdout",
          "text": [
            "Epoch 1/5\n",
            "439/439 [==============================] - 34s 74ms/step - loss: 1.0038 - accuracy: 0.6032 - val_loss: 0.9432 - val_accuracy: 0.6293\n",
            "Epoch 2/5\n",
            "439/439 [==============================] - 30s 67ms/step - loss: 0.7688 - accuracy: 0.7052 - val_loss: 0.7661 - val_accuracy: 0.7023\n",
            "Epoch 3/5\n",
            "439/439 [==============================] - 25s 56ms/step - loss: 0.6850 - accuracy: 0.7401 - val_loss: 0.7789 - val_accuracy: 0.7153\n",
            "Epoch 4/5\n",
            "439/439 [==============================] - 25s 56ms/step - loss: 0.6132 - accuracy: 0.7717 - val_loss: 0.7297 - val_accuracy: 0.7433\n",
            "Epoch 5/5\n",
            "439/439 [==============================] - 33s 76ms/step - loss: 0.5434 - accuracy: 0.7983 - val_loss: 0.7675 - val_accuracy: 0.7317\n"
          ]
        }
      ],
      "source": [
        "# Fit the model\n",
        "history_1 = model_1.fit(train_data,\n",
        "                        epochs=5,\n",
        "                        steps_per_epoch=len(train_data),\n",
        "                        validation_data=test_data,\n",
        "                        validation_steps=len(test_data))"
      ]
    },
    {
      "cell_type": "markdown",
      "metadata": {
        "id": "jOHnOUkICmqJ"
      },
      "source": [
        "To inspect models training performance plot accuracy and loss curve."
      ]
    },
    {
      "cell_type": "code",
      "execution_count": 30,
      "metadata": {
        "id": "h2iGGJWHo4VF"
      },
      "outputs": [],
      "source": [
        "# Plot the validation and training data seperately\n",
        "def plot_loss_curves(history):\n",
        "  \"\"\"\n",
        "  Returns seperate loss curves for training and validation metrics.\n",
        "  \"\"\"\n",
        "  loss = history.history['loss']\n",
        "  val_loss = history.history['val_loss']\n",
        "\n",
        "  accuracy = history.history['accuracy']\n",
        "  val_accuracy = history.history['val_accuracy']\n",
        "\n",
        "  epochs = range(len(history.history['loss']))\n",
        "\n",
        "  # Plot loss\n",
        "  plt.plot(epochs, loss, label='training_loss')\n",
        "  plt.plot(epochs, val_loss, label='val_loss')\n",
        "  plt.title('Loss')\n",
        "  plt.xlabel('Epoch') \n",
        "  plt.legend()\n",
        "\n",
        "  # Plot accuracy\n",
        "  plt.figure()\n",
        "  plt.plot(epochs, accuracy, label='training_accuracy')\n",
        "  plt.plot(epochs, val_accuracy, label='val_accuracy')\n",
        "  plt.title('Accuracy')\n",
        "  plt.xlabel('Epochs')\n",
        "  plt.legend();"
      ]
    },
    {
      "cell_type": "code",
      "execution_count": 31,
      "metadata": {
        "colab": {
          "base_uri": "https://localhost:8080/",
          "height": 573
        },
        "id": "0Mah1B-tEpYN",
        "outputId": "77ae26d2-9736-4b21-a23c-dfa3369862db"
      },
      "outputs": [
        {
          "output_type": "display_data",
          "data": {
            "image/png": "[encoded data removed]",
            "text/plain": [
              "<Figure size 432x288 with 1 Axes>"
            ]
          },
          "metadata": {
            "needs_background": "light"
          }
        },
        {
          "output_type": "display_data",
          "data": {
            "image/png": "[encoded data removed]",
            "text/plain": [
              "<Figure size 432x288 with 1 Axes>"
            ]
          },
          "metadata": {
            "needs_background": "light"
          }
        }
      ],
      "source": [
        "plot_loss_curves(history_1)"
      ]
    },
    {
      "cell_type": "markdown",
      "metadata": {
        "id": "243GOVbUHlL_"
      },
      "source": [
        "That's quite the gap between the training and validation loss curves.\n",
        "\n",
        "The curve first converges and diverges which tells us that the model is **overfitting** the training set badly. In other words its getting great results on the training data but fails to generalize well to unseen data and performs poorly on the test data.\n",
        "\n",
        "**Note:** When a model's validation loss starts to increase, it's likely that it's overfitting the training dataset. This means, it's learning the patterns in the training dataset too well and thus its ability to generalize to unseen data will be diminished.\n",
        "\n",
        "The ideal position for these two curves is to follow each other. If anything, the validation curve should be slightly under the training curve. If there's a large gap between the training curve and validation curve, it means your model is probably overfitting.\n",
        "\n",
        "## Adjust the model parameters\n",
        "A couple of ways to overfit our model include :\n",
        "- Get more data: Having more data gives opportunity for the model to learn patterns which maybe more generalized to new examples.\n",
        "- Simplify the model: If current model is already overfitting the training data, it maybe to complicated for the model. This means it is learning patterns of the data too well and isn't able to generalize well to unseen data. One way to simplify the model is to reduce number of layers it uses or to reduce number of hidden units in each layer.\n",
        "- Using data augmentation: Data Augmentation manipulates the training data in way that its harder for the model to learn as it artificially adds more variety to the data. If a model is able to learn patterns in augmented data, the model maybe able to generalize better to unseen data.\n",
        "- Using Transfer Learning: Transfer learning involves leverages the patterns (also called pre-trained weights) one model has learned to use as the foundation for your own task. In our case, we could use one computer vision model pretrained on large variety of images and then tweak it slightly to be more specialized for scenic images.\n",
        "\n",
        "**Note:** Preventing overfitting is also referred to as regularization.\n",
        "\n",
        "Since collecting more data is not possible.\n",
        "Try the other three options.\n",
        "\n",
        "Simplify `model_1` by removing 2 convolutional layers.\n",
        "\n",
        "\n"
      ]
    },
    {
      "cell_type": "code",
      "execution_count": 32,
      "metadata": {
        "colab": {
          "base_uri": "https://localhost:8080/"
        },
        "id": "wW9FSiDlHYzO",
        "outputId": "d2dd5fe0-aeee-474f-863f-d1f0d1e3f31a"
      },
      "outputs": [
        {
          "output_type": "stream",
          "name": "stdout",
          "text": [
            "Epoch 1/5\n",
            "439/439 [==============================] - 23s 50ms/step - loss: 1.0855 - accuracy: 0.5910 - val_loss: 0.9098 - val_accuracy: 0.6637\n",
            "Epoch 2/5\n",
            "439/439 [==============================] - 22s 50ms/step - loss: 0.8257 - accuracy: 0.6981 - val_loss: 0.8442 - val_accuracy: 0.6813\n",
            "Epoch 3/5\n",
            "439/439 [==============================] - 22s 50ms/step - loss: 0.7180 - accuracy: 0.7383 - val_loss: 0.7754 - val_accuracy: 0.7140\n",
            "Epoch 4/5\n",
            "439/439 [==============================] - 23s 51ms/step - loss: 0.6294 - accuracy: 0.7769 - val_loss: 0.7324 - val_accuracy: 0.7347\n",
            "Epoch 5/5\n",
            "439/439 [==============================] - 22s 49ms/step - loss: 0.5457 - accuracy: 0.8108 - val_loss: 0.8244 - val_accuracy: 0.7127\n"
          ]
        }
      ],
      "source": [
        "# Try a simplified model (removed two layers)\n",
        "model_2 = Sequential([\n",
        "  Conv2D(6, 3, activation='relu', input_shape=(150, 150, 3)),\n",
        "  MaxPool2D(),\n",
        "  Conv2D(6, 3, activation='relu'),\n",
        "  MaxPool2D(),\n",
        "  Flatten(),\n",
        "  Dense(6, activation='softmax')\n",
        "])\n",
        "\n",
        "model_2.compile(loss='categorical_crossentropy',\n",
        "                 optimizer=tf.keras.optimizers.Adam(),\n",
        "                 metrics=['accuracy'])\n",
        "\n",
        "history_2 = model_2.fit(train_data,\n",
        "                        epochs=5,\n",
        "                        steps_per_epoch=len(train_data),\n",
        "                        validation_data=test_data,\n",
        "                        validation_steps=len(test_data))"
      ]
    },
    {
      "cell_type": "code",
      "execution_count": 33,
      "metadata": {
        "colab": {
          "base_uri": "https://localhost:8080/",
          "height": 573
        },
        "id": "3w_2He3VOAuk",
        "outputId": "36202e7a-cc74-497e-cd66-fcdd52443dd7"
      },
      "outputs": [
        {
          "output_type": "display_data",
          "data": {
            "image/png": "[encoded data removed]",
            "text/plain": [
              "<Figure size 432x288 with 1 Axes>"
            ]
          },
          "metadata": {
            "needs_background": "light"
          }
        },
        {
          "output_type": "display_data",
          "data": {
            "image/png": "[encoded data removed]",
            "text/plain": [
              "<Figure size 432x288 with 1 Axes>"
            ]
          },
          "metadata": {
            "needs_background": "light"
          }
        }
      ],
      "source": [
        "plot_loss_curves(history_2)"
      ]
    },
    {
      "cell_type": "markdown",
      "metadata": {
        "id": "PgEe-y7HzBxB"
      },
      "source": [
        "Let's do another modelling experiment. \n",
        "\n",
        "**`Data Augmentation`** makes it harder for the model to learn on the training data and in turn hopefully making the patterns it learns more generalizable to unseen data.\n",
        "\n",
        "To create augmented data create a new `ImageDataGenerator` instance this time adding some parameters such as `rotation_range` and `horizontal_flip` to manipulate the images."
      ]
    },
    {
      "cell_type": "code",
      "execution_count": 34,
      "metadata": {
        "colab": {
          "base_uri": "https://localhost:8080/"
        },
        "id": "pxUYZi4ySHj4",
        "outputId": "cb6713b1-1cc8-4c60-d284-9a335ffce069"
      },
      "outputs": [
        {
          "output_type": "stream",
          "name": "stdout",
          "text": [
            "Found 14034 images belonging to 6 classes.\n"
          ]
        }
      ],
      "source": [
        "# Create augmented data generator instance\n",
        "train_datagen_augmented = ImageDataGenerator(rescale=1/255.,\n",
        "                                             rotation_range=20,\n",
        "                                             width_shift_range=0.2,\n",
        "                                             height_shift_range=0.2,\n",
        "                                             zoom_range=0.2,\n",
        "                                             horizontal_flip=True)\n",
        "\n",
        "train_data_augmented = train_datagen_augmented.flow_from_directory(train_dir,\n",
        "                                                                   target_size=(150, 150),\n",
        "                                                                   batch_size=32,\n",
        "                                                                   class_mode='categorical')"
      ]
    },
    {
      "cell_type": "markdown",
      "metadata": {
        "id": "hYLOM-GO1o3a"
      },
      "source": [
        "Let's see how the augmented data works with the same model as before `model_2`.\n",
        "\n",
        "Rather than rewrite the model from scratch clone it using a handy function in TensorFlow called `clone_model` which can existing model and rebuild it in the same format.\n",
        "\n",
        "The cloned version will not include any of the weights(patterns) the original model has learned. So when we train it, it'll be training a model from scratch."
      ]
    },
    {
      "cell_type": "code",
      "execution_count": 35,
      "metadata": {
        "colab": {
          "base_uri": "https://localhost:8080/"
        },
        "id": "IGeEbUwD2rl3",
        "outputId": "0f9221ba-6ae2-426f-88d7-952c7bdcd67d"
      },
      "outputs": [
        {
          "output_type": "stream",
          "name": "stdout",
          "text": [
            "Epoch 1/5\n",
            "439/439 [==============================] - 94s 211ms/step - loss: 1.1681 - accuracy: 0.5435 - val_loss: 1.1042 - val_accuracy: 0.5887\n",
            "Epoch 2/5\n",
            "439/439 [==============================] - 90s 206ms/step - loss: 1.0087 - accuracy: 0.6161 - val_loss: 1.0095 - val_accuracy: 0.6597\n",
            "Epoch 3/5\n",
            "439/439 [==============================] - 90s 204ms/step - loss: 0.9677 - accuracy: 0.6411 - val_loss: 0.8268 - val_accuracy: 0.6933\n",
            "Epoch 4/5\n",
            "439/439 [==============================] - 92s 210ms/step - loss: 0.9349 - accuracy: 0.6490 - val_loss: 0.8557 - val_accuracy: 0.7063\n",
            "Epoch 5/5\n",
            "439/439 [==============================] - 93s 211ms/step - loss: 0.9169 - accuracy: 0.6575 - val_loss: 0.8287 - val_accuracy: 0.7070\n"
          ]
        }
      ],
      "source": [
        "# Clone the model (use the same architecture)\n",
        "model_3 = tf.keras.models.clone_model(model_2)\n",
        "\n",
        "# Compile the cloned model (same setup as used for model_10)\n",
        "model_3.compile(loss=\"categorical_crossentropy\",\n",
        "                optimizer=tf.keras.optimizers.Adam(),\n",
        "                metrics=[\"accuracy\"])\n",
        "\n",
        "# Fit the model\n",
        "history_3 = model_3.fit(train_data_augmented, # use augmented data\n",
        "                        epochs=5,\n",
        "                        steps_per_epoch=len(train_data_augmented),\n",
        "                        validation_data=test_data,\n",
        "                        validation_steps=len(test_data))"
      ]
    },
    {
      "cell_type": "code",
      "execution_count": 36,
      "metadata": {
        "colab": {
          "base_uri": "https://localhost:8080/",
          "height": 573
        },
        "id": "q8Hs8SlR3tWT",
        "outputId": "3a659dea-18f4-4322-ed13-4d341e96acce"
      },
      "outputs": [
        {
          "output_type": "display_data",
          "data": {
            "image/png": "[encoded data removed]",
            "text/plain": [
              "<Figure size 432x288 with 1 Axes>"
            ]
          },
          "metadata": {
            "needs_background": "light"
          }
        },
        {
          "output_type": "display_data",
          "data": {
            "image/png": "[encoded data removed]",
            "text/plain": [
              "<Figure size 432x288 with 1 Axes>"
            ]
          },
          "metadata": {
            "needs_background": "light"
          }
        }
      ],
      "source": [
        "plot_loss_curves(history_3)"
      ]
    },
    {
      "cell_type": "markdown",
      "metadata": {
        "id": "ux2LzsX_FVmb"
      },
      "source": [
        "## Transfer Learning\n",
        "Since this is an image dataset, our target are the models which perform best on ImageNet.\n",
        "There are 3 types of Transfer Learning:\n",
        "1. **As is** Transfer Learning: is when you take a pretrained model as it is and apply it to your task without any changes.\n",
        "  - For example, many computer vision models are pretrained on the ImageNet dataset which contains 1000 different classes of images. This means passing a single image to this model will produce 1000 different prediction probability values (1 for each class).\n",
        "\n",
        "    - This is helpful if you have 1000 classes of image you'd like to classify and they're all the same as the ImageNet classes, however, it's not helpful if you want to classify only a small subset of classes (such as 10 different kinds of food). Model's with \"/classification\" in their name on TensorFlow Hub provide this kind of functionality.\n",
        "2. **Feature extraction** transfer learning:  is when you take the underlying patterns (also called weights) a pretrained model has learned and adjust its outputs to be more suited to your problem.\n",
        "\n",
        "  - For example, say the pretrained model you were using had 236 different layers (EfficientNetB0 has 236 layers), but the top layer outputs 1000 classes because it was pretrained on ImageNet. To adjust this to your own problem, you might remove the original activation layer and replace it with your own but with the right number of output classes. The important part here is that only the top few layers become trainable, the rest remain frozen.\n",
        "\n",
        "    - This way all the underlying patterns remain in the rest of the layers and you can utilise them for your own problem. This kind of transfer learning is very helpful when your data is similar to the data a model has been pretrained on.\n",
        "3. **Fine-tuning** transfer learning is when you take the underlying patterns (also called weights) of a pretrained model and adjust (fine-tune) them to your own problem.\n",
        "\n",
        "  - This usually means training some, many or all of the layers in the pretrained model. This is useful when you've got a large dataset (e.g. 100+ images per class) where your data is slightly different to the data the original model was trained on.\n",
        "\n",
        "A common workflow is to \"freeze\" all of the learned patterns in the bottom layers of a pretrained model so they're untrainable. And then train the top 2-3 layers of so the pretrained model can adjust its outputs to your custom data (feature extraction).\n",
        "\n",
        "After you've trained the top 2-3 layers, you can then gradually \"unfreeze\" more and more layers and run the training process on your own data to further fine-tune the pretrained model.\n",
        ">  **Question:** Why train only the top 2-3 layers in feature extraction?\n",
        "\n",
        "The lower a layer is in a computer vision model as in, the closer it is to the input layer, the larger the features it learn. For example, a bottom layer in a computer vision model to identify images of cats or dogs might learn the outline of legs, where as, layers closer to the output might learn the shape of teeth. Often, you'll want the larger features (learned patterns are also called features) to remain, since these are similar for both animals, where as, the differences remain in the more fine-grained features.\n",
        "\n",
        "The typical order for using transfer learning is:\n",
        "\n",
        "1. Build a feature extraction model (replace the top few layers of a pretrained model)\n",
        "2. Train for a few epochs with lower layers frozen\n",
        "3. Fine-tune if necessary with multiple layers unfrozen\n",
        "\n",
        "To build a feature extractor model we'll:\n",
        "\n",
        "- Use `EfficientNetB0` from `tf.keras.applications` pre-trained on ImageNet as  base model\n",
        "- Download this without the top layers using `include_top = False` parameter so we can create own output layers.\n",
        "- Freeze the base model layers so we can use the pre-learned patterns the base model has found on ImageNet\n",
        "- Put together the input, base model, pooling and output layers in a Functional model\n",
        "- Compile the Functional model using the Adam optimizer and sparse categorical crossentropy as the loss function (since our labels aren't one-hot encoded)\n",
        "- Fit the model for 3 epochs using the TensorBoard and ModelCheckpoint callbacks\n",
        "\n",
        "\n",
        "\n"
      ]
    },
    {
      "cell_type": "code",
      "execution_count": 37,
      "metadata": {
        "colab": {
          "base_uri": "https://localhost:8080/"
        },
        "id": "neRnpz9r0n4C",
        "outputId": "56bd67a4-a55d-4c1c-d0c6-214e8009bd69"
      },
      "outputs": [
        {
          "output_type": "execute_result",
          "data": {
            "text/plain": [
              "array(['buildings', 'forest', 'glacier', 'mountain', 'sea', 'street'],\n",
              "      dtype='<U9')"
            ]
          },
          "metadata": {},
          "execution_count": 37
        }
      ],
      "source": [
        "class_names"
      ]
    },
    {
      "cell_type": "code",
      "execution_count": 38,
      "metadata": {
        "id": "H4pfDmTW_qqI"
      },
      "outputs": [],
      "source": [
        "from tensorflow.keras import layers\n",
        "from tensorflow.keras.layers.experimental import preprocessing\n",
        "from tensorflow.keras.applications.efficientnet import EfficientNetB0"
      ]
    },
    {
      "cell_type": "markdown",
      "source": [
        "Since input resolution of image for the EfficientNetB0 model is 224 let's resize the images."
      ],
      "metadata": {
        "id": "-4OcwjY0FBkg"
      }
    },
    {
      "cell_type": "code",
      "source": [
        "input_shape = (224, 224, 3)"
      ],
      "metadata": {
        "id": "kNyNd-PtE91p"
      },
      "execution_count": 39,
      "outputs": []
    },
    {
      "cell_type": "code",
      "source": [
        "efficientnet_model = tf.keras.applications.EfficientNetB0(include_top=False)\n",
        "efficientnet_model.trainable = True # freeze base model layers\n",
        "\n",
        "# Create Functional model \n",
        "inputs = layers.Input(shape=input_shape, name=\"input_layer\", dtype=tf.float16)\n",
        "# Note: EfficientNetBX models have rescaling built-in but if your model didn't you could have a layer like below\n",
        "# x = preprocessing.Rescaling(1./255)(x)\n",
        "x = efficientnet_model(inputs, training=True) # set base_model to inference mode only\n",
        "x = layers.GlobalAveragePooling2D(name=\"pooling_layer\")(x)\n",
        "x = layers.Dense(len(class_names))(x) # want one output neuron per class \n",
        "# Separate activation of output layer so we can output float32 activations\n",
        "outputs = layers.Activation(\"softmax\", name=\"softmax\")(x) \n",
        "model_4 = tf.keras.Model(inputs, outputs)\n",
        "\n",
        "# Compile the model\n",
        "model_4.compile(loss=\"categorical_crossentropy\", # Use sparse_categorical_crossentropy when labels are *not* one-hot\n",
        "              optimizer=tf.keras.optimizers.Adam(),\n",
        "              metrics=[\"accuracy\"])"
      ],
      "metadata": {
        "id": "Lx7ixvhUE05a"
      },
      "execution_count": 43,
      "outputs": []
    },
    {
      "cell_type": "code",
      "execution_count": 44,
      "metadata": {
        "colab": {
          "base_uri": "https://localhost:8080/"
        },
        "id": "YDggRcT206dq",
        "outputId": "326bc770-b7f3-4289-97d3-7ed8787b6286"
      },
      "outputs": [
        {
          "output_type": "stream",
          "name": "stdout",
          "text": [
            "Model: \"model_1\"\n",
            "_________________________________________________________________\n",
            " Layer (type)                Output Shape              Param #   \n",
            "=================================================================\n",
            " input_layer (InputLayer)    [(None, 224, 224, 3)]     0         \n",
            "                                                                 \n",
            " efficientnetb0 (Functional)  (None, None, None, 1280)  4049571  \n",
            "                                                                 \n",
            " pooling_layer (GlobalAverag  (None, 1280)             0         \n",
            " ePooling2D)                                                     \n",
            "                                                                 \n",
            " dense_5 (Dense)             (None, 6)                 7686      \n",
            "                                                                 \n",
            " softmax (Activation)        (None, 6)                 0         \n",
            "                                                                 \n",
            "=================================================================\n",
            "Total params: 4,057,257\n",
            "Trainable params: 4,015,234\n",
            "Non-trainable params: 42,023\n",
            "_________________________________________________________________\n"
          ]
        }
      ],
      "source": [
        "model_4.summary()"
      ]
    },
    {
      "cell_type": "code",
      "source": [
        "# Setup EarlyStopping callback to stop training if model's val_loss doesn't improve for 3 epochs\n",
        "early_stopping = tf.keras.callbacks.EarlyStopping(monitor=\"val_loss\", # watch the val loss metric\n",
        "                                                  patience=3) # if val loss decreases for 3 epochs in a row, stop training\n",
        "\n",
        "# Create ModelCheckpoint callback to save best model during fine-tuning\n",
        "checkpoint_path = \"fine_tune_checkpoints/\"\n",
        "model_checkpoint = tf.keras.callbacks.ModelCheckpoint(checkpoint_path,\n",
        "                                                      save_best_only=True,\n",
        "                                                      monitor=\"val_loss\")\n",
        "\n",
        "# Creating learning rate reduction callback\n",
        "reduce_lr = tf.keras.callbacks.ReduceLROnPlateau(monitor=\"val_loss\",  \n",
        "                                                 factor=0.2, # multiply the learning rate by 0.2 (reduce by 5x)\n",
        "                                                 patience=2,\n",
        "                                                 verbose=1, # print out when learning rate goes down \n",
        "                                                 min_lr=1e-7)"
      ],
      "metadata": {
        "id": "mOd7C7wn8GuH"
      },
      "execution_count": 46,
      "outputs": []
    },
    {
      "cell_type": "code",
      "execution_count": 48,
      "metadata": {
        "colab": {
          "base_uri": "https://localhost:8080/"
        },
        "id": "Qvfp26xJ1LE0",
        "outputId": "7ce5ac3c-8eac-4107-9e81-dd28f0f53481"
      },
      "outputs": [
        {
          "output_type": "stream",
          "name": "stdout",
          "text": [
            "Epoch 1/100\n",
            "439/439 [==============================] - ETA: 0s - loss: 0.2643 - accuracy: 0.9104INFO:tensorflow:Assets written to: fine_tune_checkpoints/assets\n"
          ]
        },
        {
          "output_type": "stream",
          "name": "stderr",
          "text": [
            "/usr/local/lib/python3.7/dist-packages/keras/engine/functional.py:1410: CustomMaskWarning: Custom mask layers require a config and must override get_config. When loading, the custom mask layer must be passed to the custom_objects argument.\n",
            "  layer_config = serialize_layer_fn(layer)\n"
          ]
        },
        {
          "output_type": "stream",
          "name": "stdout",
          "text": [
            "\b\b\b\b\b\b\b\b\b\b\b\b\b\b\b\b\b\b\b\b\b\b\b\b\b\b\b\b\b\b\b\b\b\b\b\b\b\b\b\b\b\b\b\b\b\b\b\b\b\b\b\b\b\b\b\b\b\b\b\b\b\b\b\b\b\b\b\b\b\b\b\b\b\b\b\b\b\b\b\b\b\b\b\b\r439/439 [==============================] - 282s 642ms/step - loss: 0.2643 - accuracy: 0.9104 - val_loss: 0.2802 - val_accuracy: 0.8983 - lr: 0.0010\n"
          ]
        },
        {
          "output_type": "stream",
          "name": "stderr",
          "text": [
            "/usr/local/lib/python3.7/dist-packages/keras/saving/saved_model/layer_serialization.py:112: CustomMaskWarning: Custom mask layers require a config and must override get_config. When loading, the custom mask layer must be passed to the custom_objects argument.\n",
            "  return generic_utils.serialize_keras_object(obj)\n"
          ]
        },
        {
          "output_type": "stream",
          "name": "stdout",
          "text": [
            "Epoch 2/100\n",
            "439/439 [==============================] - 161s 367ms/step - loss: 0.2132 - accuracy: 0.9264 - val_loss: 0.3360 - val_accuracy: 0.8877 - lr: 0.0010\n",
            "Epoch 3/100\n",
            "439/439 [==============================] - ETA: 0s - loss: 0.1718 - accuracy: 0.9408\n",
            "Epoch 00003: ReduceLROnPlateau reducing learning rate to 0.00020000000949949026.\n",
            "439/439 [==============================] - 161s 367ms/step - loss: 0.1718 - accuracy: 0.9408 - val_loss: 0.2927 - val_accuracy: 0.9000 - lr: 0.0010\n",
            "Epoch 4/100\n",
            "439/439 [==============================] - ETA: 0s - loss: 0.0835 - accuracy: 0.9723INFO:tensorflow:Assets written to: fine_tune_checkpoints/assets\n"
          ]
        },
        {
          "output_type": "stream",
          "name": "stderr",
          "text": [
            "/usr/local/lib/python3.7/dist-packages/keras/engine/functional.py:1410: CustomMaskWarning: Custom mask layers require a config and must override get_config. When loading, the custom mask layer must be passed to the custom_objects argument.\n",
            "  layer_config = serialize_layer_fn(layer)\n",
            "/usr/local/lib/python3.7/dist-packages/keras/saving/saved_model/layer_serialization.py:112: CustomMaskWarning: Custom mask layers require a config and must override get_config. When loading, the custom mask layer must be passed to the custom_objects argument.\n",
            "  return generic_utils.serialize_keras_object(obj)\n"
          ]
        },
        {
          "output_type": "stream",
          "name": "stdout",
          "text": [
            "\b\b\b\b\b\b\b\b\b\b\b\b\b\b\b\b\b\b\b\b\b\b\b\b\b\b\b\b\b\b\b\b\b\b\b\b\b\b\b\b\b\b\b\b\b\b\b\b\b\b\b\b\b\b\b\b\b\b\b\b\b\b\b\b\b\b\b\b\b\b\b\b\b\b\b\b\b\b\b\b\b\b\b\b\r439/439 [==============================] - 221s 503ms/step - loss: 0.0835 - accuracy: 0.9723 - val_loss: 0.2644 - val_accuracy: 0.9157 - lr: 2.0000e-04\n",
            "Epoch 5/100\n",
            "439/439 [==============================] - 161s 367ms/step - loss: 0.0429 - accuracy: 0.9848 - val_loss: 0.2821 - val_accuracy: 0.9183 - lr: 2.0000e-04\n",
            "Epoch 6/100\n",
            "439/439 [==============================] - ETA: 0s - loss: 0.0265 - accuracy: 0.9915\n",
            "Epoch 00006: ReduceLROnPlateau reducing learning rate to 4.0000001899898055e-05.\n",
            "439/439 [==============================] - 162s 368ms/step - loss: 0.0265 - accuracy: 0.9915 - val_loss: 0.3055 - val_accuracy: 0.9213 - lr: 2.0000e-04\n",
            "Epoch 7/100\n",
            "439/439 [==============================] - 162s 368ms/step - loss: 0.0148 - accuracy: 0.9959 - val_loss: 0.2921 - val_accuracy: 0.9243 - lr: 4.0000e-05\n"
          ]
        }
      ],
      "source": [
        "# Fit the model \n",
        "history_efficientnet_model = model_4.fit(train_data, \n",
        "                                       epochs=100,\n",
        "                                       steps_per_epoch=len(train_data),\n",
        "                                       validation_data=test_data,\n",
        "                                       validation_steps=len(test_data),\n",
        "                                       callbacks=[early_stopping,  # stop model after X epochs of no improvements\n",
        "                                                                   model_checkpoint, # save only the best model during training\n",
        "                                                                   reduce_lr]) # reduce the learning rate after X epochs of no improvements"
      ]
    },
    {
      "cell_type": "code",
      "source": [
        "# Evaluate model (unsaved version) on whole test dataset\n",
        "results_efficientnet_model = model_4.evaluate(test_data)\n",
        "results_efficientnet_model"
      ],
      "metadata": {
        "colab": {
          "base_uri": "https://localhost:8080/"
        },
        "id": "LsWGnsfq5ACj",
        "outputId": "4cc3edd0-a23f-4578-bc3b-49edf29c5ed1"
      },
      "execution_count": 49,
      "outputs": [
        {
          "output_type": "stream",
          "name": "stdout",
          "text": [
            "94/94 [==============================] - 9s 92ms/step - loss: 0.3058 - accuracy: 0.9187\n"
          ]
        },
        {
          "output_type": "execute_result",
          "data": {
            "text/plain": [
              "[0.30577459931373596, 0.918666660785675]"
            ]
          },
          "metadata": {},
          "execution_count": 49
        }
      ]
    },
    {
      "cell_type": "code",
      "source": [
        ""
      ],
      "metadata": {
        "id": "Cirv6DaoXA4U"
      },
      "execution_count": null,
      "outputs": []
    }
  ],
  "metadata": {
    "accelerator": "GPU",
    "colab": {
      "collapsed_sections": [],
      "name": "Natural_Scene_classification.ipynb",
      "provenance": [],
      "authorship_tag": "ABX9TyOgRGhf6JmO7UH4XmJDAiC8",
      "include_colab_link": true
    },
    "kernelspec": {
      "display_name": "Python 3",
      "name": "python3"
    },
    "language_info": {
      "name": "python"
    }
  },
  "nbformat": 4,
  "nbformat_minor": 0
}